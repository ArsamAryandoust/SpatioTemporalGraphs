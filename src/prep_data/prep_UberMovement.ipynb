{
 "cells": [
  {
   "cell_type": "markdown",
   "id": "9b6cefc8",
   "metadata": {},
   "source": [
    "In this notebook session, we prepare the public Uber Movement travel time data into our standard data format for processing with spatio-temporal graph neural networks. We can create spatial, temporal and spatio-temporal node and adjacency data. \n",
    "\n",
    "We prepare the following node data:\n",
    "\n",
    "| t-ID     | x<sub>t,1</sub> | x<sub>t,2</sub> | x<sub>t,3</sub> | x<sub>t,4</sub> |\n",
    "|----------|-----------------|--------------------|--------------------|--------------------|\n",
    "| 1        | year            | quarter            | hour               | day-type           |\n",
    "| $\\vdots$ |                 |                    |                    |                    |\n",
    "| 1098     |                 |                    |                    |                    |\n",
    "\n",
    "| s-ID     | x<sub>s,1</sub> | x<sub>s,2</sub> | x<sub>s,3</sub> | x<sub>s,4</sub> |\n",
    "|----------|-----------------|--------------------|--------------------|--------------------|\n",
    "| 1        | city            | zone area size     | lat                | long               |\n",
    "| $\\vdots$ |                 |                    |                    |                    |\n",
    "| 423      |                 |                    |                    |                    |\n",
    "\n",
    "and the following adjacency data:\n",
    "\n",
    "| t<sub>o</sub>-ID | t<sub>d</sub>-ID | s-ID | a<sub>t,1</sub> | \n",
    "|------------------|------------------|------|-----------------|\n",
    "| 0                | 1                | 0    | 1               |\n",
    "| $\\vdots$         | $\\vdots$         |      |                 |\n",
    "| 1090             | 1098             |      |                 |\n",
    "\n",
    "|s<sub>o</sub>-ID|s<sub>d</sub>-ID|t-ID|a<sub>s,1</sub>|a<sub>s,2</sub>|a<sub>s,3</sub>|a<sub>s,4</sub>|  \n",
    "|----------------|----------------|----|---------------|---------------|---------------|---------------|\n",
    "| 0              | 1              | 0  |mean travel time|std travel time|geo mean travel time|geo std travel time|\n",
    "| $\\vdots$       | $\\vdots$       |$\\vdots$|                 |                 |                 |                 |\n",
    "| 423           | 423           |1098  |                 |                 |                 |                 |"
   ]
  },
  {
   "cell_type": "code",
   "execution_count": 1,
   "id": "75daee07",
   "metadata": {},
   "outputs": [],
   "source": [
    "import pandas as pd\n",
    "\n",
    "path_to_data = '../../data/public/'\n",
    "path_to_data_raw = path_to_data + 'raw/'\n",
    "path_to_data_results = path_to_data + 'standard/'\n"
   ]
  },
  {
   "cell_type": "code",
   "execution_count": null,
   "id": "af1d6aa6",
   "metadata": {},
   "outputs": [],
   "source": []
  }
 ],
 "metadata": {
  "kernelspec": {
   "display_name": "Python 3 (ipykernel)",
   "language": "python",
   "name": "python3"
  },
  "language_info": {
   "codemirror_mode": {
    "name": "ipython",
    "version": 3
   },
   "file_extension": ".py",
   "mimetype": "text/x-python",
   "name": "python",
   "nbconvert_exporter": "python",
   "pygments_lexer": "ipython3",
   "version": "3.8.10"
  }
 },
 "nbformat": 4,
 "nbformat_minor": 5
}
